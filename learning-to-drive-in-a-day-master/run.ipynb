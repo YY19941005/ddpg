{
 "cells": [
  {
   "cell_type": "code",
   "execution_count": 1,
   "metadata": {},
   "outputs": [
    {
     "ename": "ModuleNotFoundError",
     "evalue": "No module named 'gym'",
     "output_type": "error",
     "traceback": [
      "\u001b[1;31m---------------------------------------------------------------------------\u001b[0m",
      "\u001b[1;31mModuleNotFoundError\u001b[0m                       Traceback (most recent call last)",
      "\u001b[1;32m<ipython-input-1-14f77f21c746>\u001b[0m in \u001b[0;36m<module>\u001b[1;34m()\u001b[0m\n\u001b[0;32m      4\u001b[0m \u001b[1;33m\u001b[0m\u001b[0m\n\u001b[0;32m      5\u001b[0m \u001b[1;32mimport\u001b[0m \u001b[0mos\u001b[0m\u001b[1;33m\u001b[0m\u001b[0m\n\u001b[1;32m----> 6\u001b[1;33m \u001b[1;32mimport\u001b[0m \u001b[0mgym\u001b[0m\u001b[1;33m\u001b[0m\u001b[0m\n\u001b[0m\u001b[0;32m      7\u001b[0m \u001b[1;32mimport\u001b[0m \u001b[0mnumpy\u001b[0m \u001b[1;32mas\u001b[0m \u001b[0mnp\u001b[0m\u001b[1;33m\u001b[0m\u001b[0m\n\u001b[0;32m      8\u001b[0m \u001b[1;33m\u001b[0m\u001b[0m\n",
      "\u001b[1;31mModuleNotFoundError\u001b[0m: No module named 'gym'"
     ]
    }
   ],
   "source": [
    "#!/usr/bin/env python\n",
    "# Copyright (c) 2018 Roma Sokolkov\n",
    "# MIT License\n",
    "\n",
    "import os\n",
    "import gym\n",
    "import numpy as np\n",
    "\n",
    "from stable_baselines.ddpg.policies import LnMlpPolicy\n",
    "from stable_baselines.ddpg.noise import OrnsteinUhlenbeckActionNoise\n",
    "\n",
    "from ddpg_with_vae import DDPGWithVAE as DDPG\n",
    "from vae.controller import VAEController\n",
    "\n",
    "# Registers donkey-vae-v0 gym env.\n",
    "import donkey_gym_wrapper\n",
    "\n",
    "env = gym.make('donkey-vae-v0')\n",
    "\n",
    "PATH_MODEL_VAE = \"vae.json\"\n",
    "# Final filename will be PATH_MODEL_DDPG + \".pkl\"\n",
    "PATH_MODEL_DDPG = \"ddpg\"\n",
    "\n",
    "# Initialize VAE model and add it to gym environment.\n",
    "# VAE does image post processing to latent vector and\n",
    "# buffers raw image for future optimization.\n",
    "vae = VAEController()\n",
    "env.unwrapped.set_vae(vae)\n",
    "\n",
    "# Run in test mode of trained models exist.\n",
    "if os.path.exists(PATH_MODEL_DDPG + \".pkl\") and \\\n",
    "   os.path.exists(PATH_MODEL_VAE):\n",
    "    print(\"Task: test\")\n",
    "    ddpg = DDPG.load(PATH_MODEL_DDPG, env)\n",
    "    vae.load(PATH_MODEL_VAE)\n",
    "\n",
    "    obs = env.reset()\n",
    "    while True:\n",
    "        action, _states = ddpg.predict(obs)\n",
    "        print(action)\n",
    "        obs, reward, done, info = env.step(action)\n",
    "        if done:\n",
    "            env.reset()\n",
    "        env.render()\n",
    "# Run in training mode.\n",
    "else:\n",
    "    print(\"Task: train\")\n",
    "    # the noise objects for DDPG\n",
    "    n_actions = env.action_space.shape[-1]\n",
    "    action_noise = OrnsteinUhlenbeckActionNoise(\n",
    "            mean=np.zeros(n_actions),\n",
    "            theta=float(0.6) * np.ones(n_actions),\n",
    "            sigma=float(0.2) * np.ones(n_actions)\n",
    "            )\n",
    "\n",
    "    ddpg = DDPG(LnMlpPolicy,\n",
    "                env,\n",
    "                verbose=1,\n",
    "                batch_size=64,\n",
    "                clip_norm=5e-3,\n",
    "                gamma=0.9,\n",
    "                param_noise=None,\n",
    "                action_noise=action_noise,\n",
    "                memory_limit=10000,\n",
    "                nb_train_steps=3000,\n",
    "                )\n",
    "    ddpg.learn(total_timesteps=3000, vae=vae, skip_episodes=10)\n",
    "    # Finally save model files.\n",
    "    ddpg.save(PATH_MODEL_DDPG)\n",
    "    vae.save(PATH_MODEL_VAE)\n"
   ]
  },
  {
   "cell_type": "code",
   "execution_count": null,
   "metadata": {
    "collapsed": true
   },
   "outputs": [],
   "source": []
  }
 ],
 "metadata": {
  "kernelspec": {
   "display_name": "Python 3",
   "language": "python",
   "name": "python3"
  },
  "language_info": {
   "codemirror_mode": {
    "name": "ipython",
    "version": 3
   },
   "file_extension": ".py",
   "mimetype": "text/x-python",
   "name": "python",
   "nbconvert_exporter": "python",
   "pygments_lexer": "ipython3",
   "version": "3.6.2"
  }
 },
 "nbformat": 4,
 "nbformat_minor": 2
}
